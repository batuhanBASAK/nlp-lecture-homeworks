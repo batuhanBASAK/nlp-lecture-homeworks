{
 "cells": [
  {
   "cell_type": "markdown",
   "metadata": {},
   "source": [
    "# Generate Random Sentence"
   ]
  },
  {
   "cell_type": "code",
   "execution_count": 14,
   "metadata": {},
   "outputs": [],
   "source": [
    "from ngram_model import NGramModel"
   ]
  },
  {
   "cell_type": "markdown",
   "metadata": {},
   "source": [
    "## Character-Based Model"
   ]
  },
  {
   "cell_type": "code",
   "execution_count": 15,
   "metadata": {},
   "outputs": [
    {
     "name": "stdout",
     "output_type": "stream",
     "text": [
      "Model loaded from ./models/character_based_model.pkl\n"
     ]
    }
   ],
   "source": [
    "character_based_model = NGramModel()\n",
    "character_based_model.load_model('./models/character_based_model.pkl')"
   ]
  },
  {
   "cell_type": "markdown",
   "metadata": {},
   "source": [
    "### Unigram"
   ]
  },
  {
   "cell_type": "code",
   "execution_count": 16,
   "metadata": {},
   "outputs": [
    {
     "name": "stdout",
     "output_type": "stream",
     "text": [
      "aaaaa a  a   aa aa a a aa    a  aaa a aa a   a  aa  a      aaaa      aaaaa     a    a  a   aaaaaaaa\n"
     ]
    }
   ],
   "source": [
    "character_based_model.generate_sentence(1, 2)"
   ]
  },
  {
   "cell_type": "markdown",
   "metadata": {},
   "source": [
    "### Bigram"
   ]
  },
  {
   "cell_type": "code",
   "execution_count": 17,
   "metadata": {},
   "outputs": [
    {
     "name": "stdout",
     "output_type": "stream",
     "text": [
      "0 kan kan bi karararar bi kanderandandan k bar k bi k kar k k k bander bi bararararararan binde ban\n"
     ]
    }
   ],
   "source": [
    "character_based_model.generate_sentence(2, 2)"
   ]
  },
  {
   "cell_type": "markdown",
   "metadata": {},
   "source": [
    "### Trigram"
   ]
  },
  {
   "cell_type": "code",
   "execution_count": 18,
   "metadata": {},
   "outputs": [
    {
     "name": "stdout",
     "output_type": "stream",
     "text": [
      " 19990 ye başamından bir varaktanınde kuları bağlan kanı ileri biliklan bağın bağlı isi kan kurulan\n"
     ]
    }
   ],
   "source": [
    "character_based_model.generate_sentence(3, 2)"
   ]
  },
  {
   "cell_type": "markdown",
   "metadata": {},
   "source": [
    "## Syllable-Based Model"
   ]
  },
  {
   "cell_type": "code",
   "execution_count": 19,
   "metadata": {},
   "outputs": [
    {
     "name": "stdout",
     "output_type": "stream",
     "text": [
      "Model loaded from ./models/syllable_based_model.pkl\n"
     ]
    }
   ],
   "source": [
    "syllable_based_model = NGramModel()\n",
    "syllable_based_model.load_model('./models/syllable_based_model.pkl')"
   ]
  },
  {
   "cell_type": "markdown",
   "metadata": {},
   "source": [
    "### Unigram"
   ]
  },
  {
   "cell_type": "code",
   "execution_count": 20,
   "metadata": {},
   "outputs": [
    {
     "name": "stdout",
     "output_type": "stream",
     "text": [
      ".dadada.dale ledalalalelalalale.leladalela .lele.laledadale  lela.la...leledaladale da . ..da.ladala.lelele.lale le da da le ..dale.la. le..lele.le   da dalela\n"
     ]
    }
   ],
   "source": [
    "syllable_based_model.generate_sentence(1)"
   ]
  },
  {
   "cell_type": "markdown",
   "metadata": {},
   "source": [
    "### Bigram"
   ]
  },
  {
   "cell_type": "code",
   "execution_count": 21,
   "metadata": {},
   "outputs": [
    {
     "name": "stdout",
     "output_type": "stream",
     "text": [
      " ile içinde ileri içinde ve veyapılandı. ilerinede ve ve ileri veya ile ilerine veya ile veya veya ilerinede içinde veya ve için için ve ile ve ile içindeki i\n"
     ]
    }
   ],
   "source": [
    "syllable_based_model.generate_sentence(2, 2)"
   ]
  },
  {
   "cell_type": "markdown",
   "metadata": {},
   "source": [
    "### Trigram"
   ]
  },
  {
   "cell_type": "code",
   "execution_count": 22,
   "metadata": {},
   "outputs": [
    {
     "name": "stdout",
     "output_type": "stream",
     "text": [
      " için kullanılmaktadır. 18 tarihi ve 1980 tarihi ileri arasından olabilir bir arasındakikadaşınıncayarak görevi yoktur fakültatifler veyahut ve 1990 yılı bir arasındandır.\n"
     ]
    }
   ],
   "source": [
    "syllable_based_model.generate_sentence(3, 2)"
   ]
  }
 ],
 "metadata": {
  "kernelspec": {
   "display_name": "hw-env",
   "language": "python",
   "name": "python3"
  },
  "language_info": {
   "codemirror_mode": {
    "name": "ipython",
    "version": 3
   },
   "file_extension": ".py",
   "mimetype": "text/x-python",
   "name": "python",
   "nbconvert_exporter": "python",
   "pygments_lexer": "ipython3",
   "version": "3.11.7"
  }
 },
 "nbformat": 4,
 "nbformat_minor": 2
}
